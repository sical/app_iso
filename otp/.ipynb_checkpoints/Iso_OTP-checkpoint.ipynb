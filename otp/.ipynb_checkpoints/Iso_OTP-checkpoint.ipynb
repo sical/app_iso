{
 "cells": [
  {
   "cell_type": "markdown",
   "metadata": {},
   "source": [
    "# Phase de tests pour l'application de visualisation simultanée de différentes représentations d'isochrone\n",
    "\n",
    "## Mise en place d'un serveur  [OpenTripPlanner](http://docs.opentripplanner.org/en/latest/) sur le territoire de l'Ile de France\n",
    "\n",
    "\n",
    "Tout d'abord, nous allons contruire l'objet graphe afin de pouvoir le lancer localement beaucoup plus rapidement que si on le construisait en mémoire à chaque fois. Cet objet aura également l'avantage de pouvoir être partagé. \n",
    "\n",
    "Il nous faut des données issues d'OpenStreetMap qu'on peut trouver en téléchargement [ici](http://download.geofabrik.de/europe/france/ile-de-france-latest.osm.pbf) ainsi que des données au format [GTFS](https://developers.google.com/transit/gtfs/?hl=fr) qu'on trouvera [ici](https://opendata.stif.info/explore/dataset/offre-horaires-tc-gtfs-idf/). \n",
    "\n",
    "Il faut vérifier la validité des fichiers GTFS. On peut faire cela assez rapidement en utilisant l'outil [FeedValidator](https://github.com/google/transitfeed/wiki/FeedValidator).\n",
    "\n",
    "La [documentation](http://docs.opentripplanner.org/en/latest/) d'OpenTripPlanner va nous aider à déployer localement ce serveur avec les données, et l'aide de [contributeurs tierces](https://github.com/marcusyoung/otp-tutorial) peut aussi se révéler la bienvenue. \n",
    "\n",
    "> Exemple de requête pour construire le graphe (*il est important de respecter la [structure des dossiers et sous-dossiers](http://docs.opentripplanner.org/en/latest/Configuration/):\n",
    "\n",
    "```\n",
    "cd C:\\Users\\thomas\\Documents\\code\\iso\\otp\n",
    "java -Xmx6G -jar otp-1.2.0-shaded.jar --build graphs\\Paris\n",
    "```\n",
    "\n",
    "> Exemple de commande pour lancer le serveur avec le graphe construit précédemment:\n",
    "\n",
    "```\n",
    "cd C:\\Users\\thomas\\Documents\\code\\iso\\otp\n",
    "java -Xmx6G -jar otp-1.2.0-shaded.jar --router Paris --graphs graphs --server\n",
    "```\n",
    "\n",
    "Pour vérifier si le serveur tourne (*l'invite de commande doit afficher \"Grizzly server running\"*), il suffit de faire un tour sur l'adresse suivante: http://localhost:8080\n",
    "\n",
    "Test de la requête isochrone:"
   ]
  },
  {
   "cell_type": "code",
   "execution_count": 39,
   "metadata": {},
   "outputs": [],
   "source": [
    "import requests\n",
    "\n",
    "router = \"Paris\"\n",
    "from_place = 48.863043, 2.339759\n",
    "time = \"08:00\" #HH:MM format\n",
    "date = \"04-05-2018\" #MM-DD-YYYY format\n",
    "modes = \"TRANSIT,WALK\"\n",
    "max_dist = 800\n",
    "step = 600\n",
    "start = 600\n",
    "nb_iter = 6\n",
    "end = step*(nb_iter+1)\n",
    "cutoffs = \"\"\n",
    "list_time = []\n",
    "\n",
    "for i in range(start, end, step):\n",
    "    cutoffs += \"&cutoffSec=\" + str(i)\n",
    "    list_time.append(i)\n",
    "\n",
    "url = \"http://localhost:8080/otp/routers/{}/isochrone?fromPlace={}&mode={}&date={}&time={}&maxWalkDistance={}{}\".format(\n",
    "    router,\n",
    "    from_place,\n",
    "    modes,\n",
    "    date,\n",
    "    time,\n",
    "    max_dist,\n",
    "    cutoffs)\n",
    "\n",
    "headers = {'accept': 'application/json'}\n",
    "\n",
    "r = requests.get(url, headers=headers)\n",
    "code = r.status_code\n",
    "\n",
    "if code == 200:\n",
    "    json_response = r.json()\n",
    "else:\n",
    "    print ('ERROR:', code)"
   ]
  },
  {
   "cell_type": "code",
   "execution_count": 41,
   "metadata": {},
   "outputs": [
    {
     "data": {
      "text/plain": [
       "3600"
      ]
     },
     "execution_count": 41,
     "metadata": {},
     "output_type": "execute_result"
    }
   ],
   "source": [
    "import pandas as pd\n",
    "\n",
    "df = pd.DataFrame.from_dict(json_response)\n",
    "df['features'][0]['properties']['time']"
   ]
  },
  {
   "cell_type": "code",
   "execution_count": 44,
   "metadata": {},
   "outputs": [
    {
     "data": {
      "text/plain": [
       "{600: '#440154',\n",
       " 1200: '#404387',\n",
       " 1800: '#29788E',\n",
       " 2400: '#22A784',\n",
       " 3000: '#79D151',\n",
       " 3600: '#FDE724'}"
      ]
     },
     "execution_count": 44,
     "metadata": {},
     "output_type": "execute_result"
    }
   ],
   "source": [
    "from bokeh.palettes import Viridis\n",
    "\n",
    "palette_nb = len(list_time)\n",
    "colors = Viridis[palette_nb]\n",
    "\n",
    "#Create time/colors dict\n",
    "dict_color = {time:color for time, color in zip(list_time, colors)}\n"
   ]
  }
 ],
 "metadata": {
  "kernelspec": {
   "display_name": "Python 3",
   "language": "python",
   "name": "python3"
  },
  "language_info": {
   "codemirror_mode": {
    "name": "ipython",
    "version": 3
   },
   "file_extension": ".py",
   "mimetype": "text/x-python",
   "name": "python",
   "nbconvert_exporter": "python",
   "pygments_lexer": "ipython3",
   "version": "3.6.4"
  }
 },
 "nbformat": 4,
 "nbformat_minor": 2
}
