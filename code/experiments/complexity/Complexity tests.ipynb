{
 "cells": [
  {
   "cell_type": "markdown",
   "metadata": {},
   "source": [
    "# Tests sur la mesure de la complexité de polygones\n",
    "\n"
   ]
  },
  {
   "cell_type": "code",
   "execution_count": 1,
   "metadata": {},
   "outputs": [],
   "source": [
    "# Add module to path\n",
    "import os\n",
    "import sys\n",
    "\n",
    "sys.path.append(os.getcwd())"
   ]
  },
  {
   "cell_type": "code",
   "execution_count": 5,
   "metadata": {
    "scrolled": true
   },
   "outputs": [
    {
     "name": "stdout",
     "output_type": "stream",
     "text": [
      "['./shapes\\\\circle_800_m.shp', './shapes\\\\ellipse-rose_800_m.shp', './shapes\\\\epicycloid_800_m.shp', './shapes\\\\fohr.shp', './shapes\\\\hypocycloid_800_m.shp', './shapes\\\\isle_of_lewis.shp', './shapes\\\\isochrone.shp', './shapes\\\\notch.shp', './shapes\\\\pentagone_800_m.shp', './shapes\\\\pie_800_m.shp', './shapes\\\\polyfoil_800_m.shp', './shapes\\\\quasi-circle_800_m.shp', './shapes\\\\square_800_m.shp', './shapes\\\\star_400_800_m.shp']\n",
      "{'area': 4650081.19462311, 'perimeter': 7647.751495679673, 'nb': 1, 'amplitude': 0.0, 'convex': 0.0, 'notches': 0.4827586206896552, 'complexity': 0.0}\n"
     ]
    },
    {
     "name": "stderr",
     "output_type": "stream",
     "text": [
      "C:\\Users\\thomas\\Documents\\code\\iso\\app_iso\\code\\experiments\\complexity\\complexity.py:187: FutureWarning: Sorting because non-concatenation axis is not aligned. A future version\n",
      "of pandas will change to not sort by default.\n",
      "\n",
      "To accept the future behavior, pass 'sort=False'.\n",
      "\n",
      "To retain the current behavior and silence the warning, pass 'sort=True'.\n",
      "\n",
      "  gdf_tot = pd.concat(l_gdf)\n"
     ]
    },
    {
     "ename": "KeyError",
     "evalue": "'reference'",
     "output_type": "error",
     "traceback": [
      "\u001b[1;31m---------------------------------------------------------------------------\u001b[0m",
      "\u001b[1;31mKeyError\u001b[0m                                  Traceback (most recent call last)",
      "\u001b[1;32m<ipython-input-5-c5475eb26dc7>\u001b[0m in \u001b[0;36m<module>\u001b[1;34m()\u001b[0m\n\u001b[0;32m     55\u001b[0m     \"\"\".format(\n\u001b[0;32m     56\u001b[0m             \u001b[0mk\u001b[0m\u001b[1;33m,\u001b[0m\u001b[1;33m\u001b[0m\u001b[0m\n\u001b[1;32m---> 57\u001b[1;33m             \u001b[0mv\u001b[0m\u001b[1;33m[\u001b[0m\u001b[1;34m\"reference\"\u001b[0m\u001b[1;33m]\u001b[0m\u001b[1;33m[\u001b[0m\u001b[1;34m\"amplitude\"\u001b[0m\u001b[1;33m]\u001b[0m\u001b[1;33m,\u001b[0m\u001b[1;33m\u001b[0m\u001b[0m\n\u001b[0m\u001b[0;32m     58\u001b[0m             \u001b[0mv\u001b[0m\u001b[1;33m[\u001b[0m\u001b[1;34m\"amplitude\"\u001b[0m\u001b[1;33m]\u001b[0m\u001b[1;33m,\u001b[0m\u001b[1;33m\u001b[0m\u001b[0m\n\u001b[0;32m     59\u001b[0m             \u001b[0mv\u001b[0m\u001b[1;33m[\u001b[0m\u001b[1;34m\"reference\"\u001b[0m\u001b[1;33m]\u001b[0m\u001b[1;33m[\u001b[0m\u001b[1;34m\"convex\"\u001b[0m\u001b[1;33m]\u001b[0m\u001b[1;33m,\u001b[0m\u001b[1;33m\u001b[0m\u001b[0m\n",
      "\u001b[1;31mKeyError\u001b[0m: 'reference'"
     ]
    }
   ],
   "source": [
    "import glob\n",
    "\n",
    "from complexity import complexity\n",
    "\n",
    "ampl_ref_fohr = 0.02\n",
    "ampl_ref_lewis = 0.6\n",
    "conv_ref_fohr = 0.04\n",
    "conv_ref_lewis = 0.28\n",
    "shapes = glob.glob(\"./shapes/*.shp\")\n",
    "coeff_ampl = 0.8\n",
    "coeff_conv = 0.2\n",
    "\n",
    "\n",
    "gdf, dico = complexity(shapes, coeff_ampl, coeff_conv)\n",
    "\n",
    "dico[\"fohr\"].update(\n",
    "    {\n",
    "        \"reference\":{\n",
    "            \"amplitude\":0.02,\n",
    "            \"convex\":0.04\n",
    "        }\n",
    "    }\n",
    ")\n",
    "\n",
    "dico[\"isle_of_lewis\"].update(\n",
    "    {\n",
    "        \"reference\":{\n",
    "            \"amplitude\":0.6,\n",
    "            \"convex\":0.28\n",
    "        }\n",
    "    }\n",
    ")\n",
    "\n",
    "dico[\"notch\"].update(\n",
    "    {\n",
    "        \"reference\":{\n",
    "            \"amplitude\":\"null\",\n",
    "            \"convex\":\"null\"\n",
    "        }\n",
    "    }\n",
    ")\n",
    "\n",
    "for k,v in dico.items():\n",
    "    \n",
    "    print (\n",
    "    \"\"\"\n",
    "    {}:\n",
    "        amplitude:\n",
    "            reference: {},\n",
    "            calculated: {}\n",
    "        convex:\n",
    "            reference: {},\n",
    "            calculated: {}\n",
    "    \"\"\".format(\n",
    "            k,\n",
    "            v[\"reference\"][\"amplitude\"],\n",
    "            v[\"amplitude\"],\n",
    "            v[\"reference\"][\"convex\"],\n",
    "            v[\"convex\"]\n",
    "        )\n",
    "    )\n"
   ]
  },
  {
   "cell_type": "code",
   "execution_count": 4,
   "metadata": {},
   "outputs": [
    {
     "name": "stderr",
     "output_type": "stream",
     "text": [
      "C:\\Users\\thomas\\Documents\\code\\iso\\app_iso\\code\\experiments\\complexity\\complexity.py:187: FutureWarning: Sorting because non-concatenation axis is not aligned. A future version\n",
      "of pandas will change to not sort by default.\n",
      "\n",
      "To accept the future behavior, pass 'sort=False'.\n",
      "\n",
      "To retain the current behavior and silence the warning, pass 'sort=True'.\n",
      "\n",
      "  gdf_tot = pd.concat(l_gdf)\n"
     ]
    }
   ],
   "source": [
    "import glob\n",
    "from complexity import complexity, to_table\n",
    "\n",
    "coeff_ampl = 0.8\n",
    "coeff_conv = 0.2\n",
    "\n",
    "columns = [\"img\",\"name\",\"complexity\",\"convex\",\"freq\",\"nbvertices\",\"notches\",\"perimeter\"]\n",
    "\n",
    "if __name__ == \"__main__\":\n",
    "    shapes = glob.glob(\"./shapes/*.shp\")\n",
    "    images = glob.glob(\"./images/*.png\")\n",
    "    coeff_ampl, coeff_conv = 0.8, 0.2\n",
    "    filename = \"complexity.md\"\n",
    "    tablefmt = \"github\"\n",
    "    str_img_latex = \"\\includegraphics[width=1cm]{{figures/{}}}\"\n",
    "    str_img = \"![](./images/{}.png)\"\n",
    "\n",
    "    gdf, dico = complexity(shapes, coeff_ampl, coeff_conv, images=images, str_img=str_img)\n",
    "    table = to_table(gdf, tablefmt, str_img, filename=filename, columns=columns)"
   ]
  }
 ],
 "metadata": {
  "kernelspec": {
   "display_name": "Python 3",
   "language": "python",
   "name": "python3"
  },
  "language_info": {
   "codemirror_mode": {
    "name": "ipython",
    "version": 3
   },
   "file_extension": ".py",
   "mimetype": "text/x-python",
   "name": "python",
   "nbconvert_exporter": "python",
   "pygments_lexer": "ipython3",
   "version": "3.6.4"
  }
 },
 "nbformat": 4,
 "nbformat_minor": 2
}
