{
 "cells": [
  {
   "cell_type": "markdown",
   "metadata": {},
   "source": [
    "# Tests sur la mesure de la complexité de polygones\n",
    "\n"
   ]
  },
  {
   "cell_type": "code",
   "execution_count": 1,
   "metadata": {},
   "outputs": [],
   "source": [
    "# Add module to path\n",
    "import os\n",
    "import sys\n",
    "\n",
    "sys.path.append(os.getcwd())"
   ]
  },
  {
   "cell_type": "code",
   "execution_count": 4,
   "metadata": {},
   "outputs": [
    {
     "name": "stderr",
     "output_type": "stream",
     "text": [
      "C:\\Users\\thomas\\Documents\\code\\iso\\app_iso\\code\\experiments\\complexity\\complexity.py:187: FutureWarning: Sorting because non-concatenation axis is not aligned. A future version\n",
      "of pandas will change to not sort by default.\n",
      "\n",
      "To accept the future behavior, pass 'sort=False'.\n",
      "\n",
      "To retain the current behavior and silence the warning, pass 'sort=True'.\n",
      "\n",
      "  gdf_tot = pd.concat(l_gdf)\n"
     ]
    }
   ],
   "source": [
    "import glob\n",
    "from complexity import complexity, to_table\n",
    "\n",
    "coeff_ampl = 0.8\n",
    "coeff_conv = 0.2\n",
    "\n",
    "columns = [\"img\",\"name\",\"complexity\",\"convex\",\"freq\",\"nbvertices\",\"notches\",\"perimeter\"]\n",
    "\n",
    "if __name__ == \"__main__\":\n",
    "    shapes = glob.glob(\"./shapes/*.shp\")\n",
    "    images = glob.glob(\"./images/*.png\")\n",
    "    coeff_ampl, coeff_conv = 0.8, 0.2\n",
    "    filename = \"complexity.md\"\n",
    "    tablefmt = \"github\"\n",
    "    str_img_latex = \"\\includegraphics[width=1cm]{{figures/{}}}\"\n",
    "    str_img = \"![](./images/{}.png)\"\n",
    "\n",
    "    gdf, dico = complexity(shapes, coeff_ampl, coeff_conv, images=images, str_img=str_img)\n",
    "    table = to_table(gdf, tablefmt, str_img, filename=filename, columns=columns)"
   ]
  }
 ],
 "metadata": {
  "kernelspec": {
   "display_name": "Python 3",
   "language": "python",
   "name": "python3"
  },
  "language_info": {
   "codemirror_mode": {
    "name": "ipython",
    "version": 3
   },
   "file_extension": ".py",
   "mimetype": "text/x-python",
   "name": "python",
   "nbconvert_exporter": "python",
   "pygments_lexer": "ipython3",
   "version": "3.6.4"
  }
 },
 "nbformat": 4,
 "nbformat_minor": 2
}
